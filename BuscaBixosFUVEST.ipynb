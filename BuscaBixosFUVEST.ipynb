{
  "cells": [
    {
      "cell_type": "markdown",
      "metadata": {
        "colab_type": "text",
        "id": "view-in-github"
      },
      "source": [
        "<a href=\"https://colab.research.google.com/github/Thiago-Marafeli-USP/buscaBixosFUVEST/blob/main/BuscaBixosFUVEST.ipynb\" target=\"_parent\"><img src=\"https://colab.research.google.com/assets/colab-badge.svg\" alt=\"Open In Colab\"/></a>"
      ]
    },
    {
      "cell_type": "code",
      "execution_count": 1,
      "metadata": {
        "colab": {
          "base_uri": "https://localhost:8080/"
        },
        "id": "TNGq450tqix_",
        "outputId": "287138e9-073f-43fe-aaf9-39c9c23b3ce3"
      },
      "outputs": [],
      "source": [
        "# requisito para funcionar no Google Colab\n",
        "# se não for usar no Colab, talvez esta célula não seja necessária\n",
        "# %pip install PyPDF2"
      ]
    },
    {
      "cell_type": "code",
      "execution_count": 2,
      "metadata": {
        "id": "bYLzADPoqWRQ"
      },
      "outputs": [],
      "source": [
        "# requisito para ler PDFs\n",
        "import PyPDF2\n",
        "\n",
        "# requisito para usar arquivos JSON\n",
        "import json\n",
        "\n",
        "# serve apenas para pegar o nome do arquivo do PDF\n",
        "from pathlib import Path"
      ]
    },
    {
      "cell_type": "code",
      "execution_count": 3,
      "metadata": {
        "id": "KFwiq1kVtox4"
      },
      "outputs": [],
      "source": [
        "# adicionar individualmente os valores que quiser, se quiser\n",
        "# em um arquivo JSON, separadamente, em formato de dicionário\n",
        "# <codigo_da_disciplina>: <nome_da_disciplina>\n",
        "\n",
        "# este item é opcional, serve apenas para facilitar a leitura\n",
        "# se não quiser utilizar, pode deixar vazio\n",
        "\n",
        "# ATENÇÃO: os códigos dos cursos podem alterar a cada vestibular\n",
        "# verifique se estão atualizados\n",
        "\n",
        "# arqCursos receberá o caminho \"/x/y/z.json\"\n",
        "arqCursos = input(\"[Opcional] Digite o caminho do arquivo da relação de cursos (JSON): \")\n",
        "try:\n",
        "    with open(arqCursos, \"r\", encoding=\"utf-8\") as cursosJSON:\n",
        "        cursos = json.load(cursosJSON)\n",
        "except:\n",
        "    pass"
      ]
    },
    {
      "cell_type": "code",
      "execution_count": 4,
      "metadata": {
        "colab": {
          "base_uri": "https://localhost:8080/"
        },
        "id": "Im9rC-ETqct0",
        "outputId": "42ffabf9-33c1-475f-f186-b0cf0767d0d0"
      },
      "outputs": [],
      "source": [
        "while True:\n",
        "    try:\n",
        "        # arq receberá o caminho \"/x/y/z.pdf\"\n",
        "        arq = input(\"Digite o caminho do arquivo da relação de aprovados (PDF): \")\n",
        "        # file handler\n",
        "        pdfFileObj = open(arq, 'rb')\n",
        "    except:\n",
        "        print(\"Caminho inválido. Tente novamente!\")\n",
        "        continue\n",
        "    else:\n",
        "        break\n",
        "\n",
        "#pega o nome do arquivo\n",
        "# arqNome = arq.rsplit(\"\\\\\", 1)[-1].rsplit(\"/\", 1)[-1].rsplit(\".\", 1)[0]\n",
        "arqNome = Path(arq).stem\n",
        "\n",
        "# processa o arquivo no PyPDF2 para poder usá-lo\n",
        "pdfReader = PyPDF2.PdfFileReader(pdfFileObj)"
      ]
    },
    {
      "cell_type": "code",
      "execution_count": 5,
      "metadata": {
        "id": "cXHIXC1UqwA3"
      },
      "outputs": [],
      "source": [
        "try:\n",
        "  with open(arqNome+\".json\", \"r\", encoding=\"utf-8\") as bixosJSON:\n",
        "    bixos = json.load(bixosJSON)\n",
        "except:\n",
        "  # lista de bixos\n",
        "  bixos = []\n",
        "\n",
        "  # itera página por página\n",
        "  for page in range(pdfReader.numPages):\n",
        "    pageObj = pdfReader.getPage(page)\n",
        "\n",
        "    # extração do texto da página\n",
        "    texto = pageObj.extractText()\n",
        "    # separa por linhas\n",
        "    linha = texto.split('\\n')\n",
        "\n",
        "    # itera linha por linha\n",
        "    for i in linha:\n",
        "      # caso seja alguma linha do topo da página, pular\n",
        "      if i == linha[0] or i == linha[1] or i == linha[-1]:\n",
        "        pass\n",
        "\n",
        "      else:\n",
        "        # procura pelos AAAA BBBB CCCC presentes a cada mudança de letra inicial\n",
        "        # e retira essas repetições\n",
        "        try:\n",
        "          if i[0] == i[1]:\n",
        "            l = i[0]\n",
        "            cont = 0\n",
        "            while True:\n",
        "              if i[cont] == i[cont+1]:\n",
        "                cont = cont + 1\n",
        "              else:\n",
        "                i = i[cont:]\n",
        "                break\n",
        "\n",
        "          # pega o nome\n",
        "          nome = i[:-13]\n",
        "          # pega o código do curso\n",
        "          curso = i[-6:]\n",
        "          # anexa os dados anteriores num dicionário\n",
        "          bixo = {\"Nome\": nome, \"Curso\": curso}\n",
        "\n",
        "          # anexa os dados do bixo na lista\n",
        "          if i != []:\n",
        "            bixos.append(bixo)\n",
        "        except:\n",
        "          pass\n",
        "\n",
        "  # salva a lista dos bixos num JSON\n",
        "  bixos_json = json.dumps(bixos, indent=4)\n",
        "\n",
        "  with open(arqNome+\".json\", \"w\") as arqJSON:\n",
        "      arqJSON.write(bixos_json)"
      ]
    },
    {
      "cell_type": "code",
      "execution_count": 6,
      "metadata": {
        "colab": {
          "base_uri": "https://localhost:8080/"
        },
        "id": "YzSE_szbzI-Z",
        "outputId": "6d44aa14-f583-4a3f-8427-848c4229b7c4"
      },
      "outputs": [
        {
          "name": "stdout",
          "output_type": "stream",
          "text": [
            "\n",
            "Curso: ICMC - Ciências da Computação \n",
            "\n",
            "Aprovados:\n",
            "\n",
            "Abigail Ignacio Cuevas Lopes\n",
            "Adalton de Sena Almeida Filho\n",
            "Alberto da Rocha Miranda\n",
            "Antonio Italo Lima Lopes\n",
            "Artur Alves Cavalcante de Barros\n",
            "Bruno Berndt Lima\n",
            "Carlos Filipe de Castro Lemos\n",
            "Danielle Modesti\n",
            "Davi Fagundes Ferreira da Silva\n",
            "Eduardo Figueiredo Freire Andrad...\n",
            "Enzo Hideo Kobayashi\n",
            "Erick de Santana\n",
            "Felipe Luis Giacomini\n",
            "Fellip Silva Alves\n",
            "Fernando Goncalves Campos\n",
            "Gabriel Akio Urakawa\n",
            "Gabriel Barbosa de Oliveira\n",
            "Gabriel Castilho Mazzeu\n",
            "Gabriel Natal Coutinho\n",
            "Gabriel Ribeiro Fonseca de Freitas\n",
            "Guilherme Sousa Panza\n",
            "Gustavo Siqueira Barbosa\n",
            "Henrico Lazuroz Moura de Almeid...\n",
            "Henrique Bovo Carneiro\n",
            "Igor Furlan Abduch\n",
            "Joao Gabriel Sasseron Roberto A...\n",
            "Joao Pedro Duarte Nunes\n",
            "Joao Victor Dionizio de Oliveira Sa...\n",
            "Joao Victor Oliveira Paliares\n",
            "Joao Vitor Tigre Almeida\n",
            "Kaito Hayashi\n",
            "Lannah Pimenta Pardo\n",
            "Laura Ferre Scotelari\n",
            "Luana Cunha da Silva\n",
            "Lucas Pereira Pacheco\n",
            "Maria Julia Soares de Grandi\n",
            "Marinaldo Silva de Angelo Sobrinh...\n",
            "Paulo Henrique dos Santos Almeid...\n",
            "Paulo Victor da Silva\n",
            "Pedro Benicio Januario Oliveira\n",
            "Pedro Dias Batista\n",
            "Pedro Guilherme dos Reis Teixeira\n",
            "Pedro Lucas Lopes Rosa\n",
            "Pedro Rossi Silva Rodrigues\n",
            "Rafael Sartori Vantin\n",
            "Rafael Zimmer\n",
            "Raphael David Philippe Leveque\n",
            "Rebeca Vieira Carvalho\n",
            "Renato Tadeu Theodoro Junior\n",
            "Rogerio Lopes Lube\n",
            "Samuel de Assuncao Ferreira\n",
            "Samuel Figueiredo Veronez\n",
            "Santiago Rodrigues da Silva\n",
            "Thais Ribeiro Lauriano\n",
            "Theo da Mota dos Santos\n",
            "Vinicius Kazuo Fujikawa Noguti\n",
            "Vitor Amorim Frois\n",
            "Vitor de Melo Calhau\n",
            "Ygor Silva de Jesus\n",
            "\n",
            "59 pessoas foram aprovadas no curso ICMC - Ciências da Computação nesta chamada!\n",
            "\n"
          ]
        }
      ],
      "source": [
        "cod = input(\"Digite o código do curso no formato xxx-xx : \")\n",
        "\n",
        "try:\n",
        "  # procurará o código do curso no dicionário\n",
        "  if cod in cursos:\n",
        "    curso = cursos[cod]\n",
        "  else:\n",
        "    curso = cod\n",
        "# caso a váriável cursos seja apagada,\n",
        "# será assumido que o usuário sabe que o código existe\n",
        "except:\n",
        "  curso = cod\n",
        "\n",
        "print(\"\\nCurso:\", curso, \"\\n\\nAprovados:\\n\")\n",
        "aprovados = 0\n",
        "for bixo in bixos:\n",
        "  if bixo[\"Curso\"] == cod:\n",
        "    print(bixo[\"Nome\"])\n",
        "    aprovados += 1\n",
        "\n",
        "if aprovados == 0:\n",
        "  print(\"Não foi possível encontrar bixos no curso selecionado!\")\n",
        "  print(\"Isso pode ocorrer caso:\")\n",
        "  print(\"- Não haja pessoas convocadas para o curso nesta chamada\")\n",
        "  print(\"- O código digitado esteja errado\\n\")\n",
        "else:\n",
        "  print()\n",
        "  print(aprovados, \"pessoas foram aprovadas no curso\", curso, \"nesta chamada!\\n\")"
      ]
    },
    {
      "cell_type": "code",
      "execution_count": 7,
      "metadata": {
        "id": "OxhiS6dCq0e9"
      },
      "outputs": [],
      "source": [
        "# descomente isto para fechar o arquivo\n",
        "# pdfFileObj.close()"
      ]
    }
  ],
  "metadata": {
    "colab": {
      "authorship_tag": "ABX9TyNvJboyKtYALPGwbOALWC+C",
      "collapsed_sections": [],
      "include_colab_link": true,
      "name": "BuscaBixosFUVEST.ipynb",
      "provenance": []
    },
    "kernelspec": {
      "display_name": "Python 3",
      "name": "python3"
    },
    "language_info": {
      "codemirror_mode": {
        "name": "ipython",
        "version": 3
      },
      "file_extension": ".py",
      "mimetype": "text/x-python",
      "name": "python",
      "nbconvert_exporter": "python",
      "pygments_lexer": "ipython3",
      "version": "3.9.5"
    }
  },
  "nbformat": 4,
  "nbformat_minor": 0
}
